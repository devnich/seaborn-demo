{
 "cells": [
  {
   "cell_type": "markdown",
   "id": "f894a6f2-b6e5-44b5-8291-d4cbb9faafc7",
   "metadata": {},
   "source": [
    "# __Why do we visualize our data?__"
   ]
  },
  {
   "cell_type": "code",
   "execution_count": null,
   "id": "cc10f998-5c99-43b8-b253-1b304e78fce8",
   "metadata": {},
   "outputs": [],
   "source": [
    "# Import seaborn graphing library\n",
    "import seaborn as sns\n",
    "import matplotlib.pyplot as plt"
   ]
  },
  {
   "cell_type": "markdown",
   "id": "4dbca2a4-226e-467c-b77a-4a40ede144cd",
   "metadata": {
    "tags": []
   },
   "source": [
    "### \"Anscombe's Quartet\": Four datasets with the same statistical properties\n",
    "\n",
    "[Graphs in Statistical Analysis.](https://doi.org/10.2307/2682899)\n",
    "The American Statistician, Vol. 27, No. 1 (Feb., 1973), pp. 17-21"
   ]
  },
  {
   "cell_type": "code",
   "execution_count": null,
   "id": "38ea879d-d335-4765-949f-8f982a4a4f51",
   "metadata": {},
   "outputs": [],
   "source": [
    "# Load the example dataset for Anscombe's quartet\n",
    "df = sns.load_dataset(\"anscombe\")\n",
    "\n",
    "# Each dataset makes a scatterplot. This is dataset I:\n",
    "df[df.dataset == 'I']"
   ]
  },
  {
   "cell_type": "markdown",
   "id": "625fc9ef-e4c1-4974-a73a-05369121da0b",
   "metadata": {},
   "source": [
    "## Summary statistics are the same"
   ]
  },
  {
   "cell_type": "code",
   "execution_count": null,
   "id": "bfb89250-dd33-4378-accf-d6943a2a87ad",
   "metadata": {},
   "outputs": [],
   "source": [
    "# Summary statistics for X\n",
    "df.groupby(\"dataset\").describe()['x'].loc[:, \"mean\":\"std\"]"
   ]
  },
  {
   "cell_type": "code",
   "execution_count": null,
   "id": "63713435-2dd8-4e6b-95b5-2f8beea679dc",
   "metadata": {},
   "outputs": [],
   "source": [
    "# Summary statistics for Y\n",
    "df.groupby(\"dataset\").describe()['y'].loc[:, \"mean\":\"std\"]"
   ]
  },
  {
   "cell_type": "markdown",
   "id": "0887c386-f38c-4cf7-a1d2-f20de35e8470",
   "metadata": {},
   "source": [
    "## Regression statistics are the same"
   ]
  },
  {
   "cell_type": "code",
   "execution_count": null,
   "id": "b9d8c800-0d6f-4c4e-afe1-69f19e0e9acd",
   "metadata": {},
   "outputs": [],
   "source": [
    "import scipy.stats as stats\n",
    "\n",
    "datasets = [\"I\", \"II\", \"III\", \"IV\"]\n",
    "regressions = [stats.linregress(df[df.dataset == d]['x'], df[df.dataset == d]['y']) for d in datasets]\n",
    "for r, d in zip(regressions, datasets):\n",
    "    print(\"Slope and intercept of dataset\", d, \":\\t\", round(r.slope, 3), \",\", round(r.intercept, 2))"
   ]
  },
  {
   "cell_type": "markdown",
   "id": "686529ee-c0fa-45e6-85c0-4cce77b252f8",
   "metadata": {},
   "source": [
    "## But how do they look?"
   ]
  },
  {
   "cell_type": "code",
   "execution_count": null,
   "id": "859b1fa1-9339-4421-b1cb-b8ddac2b8a4d",
   "metadata": {},
   "outputs": [],
   "source": [
    "# Clear previous chart settings\n",
    "#plt.clf()\n",
    "\n",
    "# Set theme\n",
    "sns.set_theme(style=\"ticks\")\n",
    "\n",
    "# Show the results of a linear regression within each dataset\n",
    "fig1 = sns.lmplot(\n",
    "    data=df, x=\"x\", y=\"y\", col=\"dataset\", hue=\"dataset\",\n",
    "    col_wrap=2, palette=\"muted\", ci=None,\n",
    "    height=4, scatter_kws={\"s\": 50, \"alpha\": 1}\n",
    ")\n",
    "\n",
    "# Re-display:\n",
    "#fig1.figure"
   ]
  },
  {
   "cell_type": "markdown",
   "id": "012e797a-88e8-452b-bd26-797b9fe5c5df",
   "metadata": {},
   "source": [
    "# __Seven ways of looking at a penguin__"
   ]
  },
  {
   "cell_type": "markdown",
   "id": "74e7ea8c-aba6-4a37-ae66-683f842ed595",
   "metadata": {},
   "source": [
    "### Palmer Archipeligo Penguin Data\n",
    "\n",
    "Data were collected and made available by Dr. Kristen Gorman and the Palmer Station, Antarctica LTER, a member of the Long Term Ecological Research Network.\n",
    "\n",
    "[![DOI](https://zenodo.org/badge/DOI/10.5281/zenodo.3960218.svg)](https://doi.org/10.5281/zenodo.3960218)"
   ]
  },
  {
   "cell_type": "code",
   "execution_count": null,
   "id": "176c43ec-cba3-4d38-bed3-564357c2c677",
   "metadata": {
    "tags": []
   },
   "outputs": [],
   "source": [
    "penguins = sns.load_dataset(\"penguins\")"
   ]
  },
  {
   "cell_type": "markdown",
   "id": "fb4873fa-4feb-49e8-8344-2294fab3fd9a",
   "metadata": {},
   "source": [
    "## Check out all my penguins"
   ]
  },
  {
   "cell_type": "code",
   "execution_count": null,
   "id": "8b1df30b-83b0-4351-b382-c2f358164a2c",
   "metadata": {},
   "outputs": [],
   "source": [
    "penguins"
   ]
  },
  {
   "cell_type": "markdown",
   "id": "2da4c069-a7d3-48ed-bde1-07589562d1b5",
   "metadata": {},
   "source": [
    "## Grouped bar plot"
   ]
  },
  {
   "cell_type": "code",
   "execution_count": null,
   "id": "ba3c8f70-8879-4a77-bb16-31fcbcadccb2",
   "metadata": {},
   "outputs": [],
   "source": [
    "# Clear previous chart settings\n",
    "plt.clf()\n",
    "\n",
    "sns.set_theme(style=\"whitegrid\")\n",
    "\n",
    "# Draw a nested barplot by species and sex\n",
    "fig2 = sns.catplot(\n",
    "    data=penguins, kind=\"bar\",\n",
    "    x=\"species\", y=\"body_mass_g\", hue=\"sex\",\n",
    "    palette=\"dark\", alpha=.6, height=6,\n",
    "    ci='sd'  # This is deprecated in newer versions of Seaborn; comment out if necessary\n",
    ")\n",
    "\n",
    "fig2.despine(left=True)\n",
    "fig2.set_axis_labels(\"\", \"Body mass (g)\")\n",
    "fig2.legend.set_title(\"\") \n",
    "\n",
    "fig2.figure"
   ]
  },
  {
   "cell_type": "markdown",
   "id": "7b971e3a-448e-47d2-a249-901cbf550ca4",
   "metadata": {},
   "source": [
    "## Scatterplot with categorical variables"
   ]
  },
  {
   "cell_type": "code",
   "execution_count": null,
   "id": "d46f8b76-d7f1-4147-b518-44bef8a900ae",
   "metadata": {},
   "outputs": [],
   "source": [
    "plt.clf()\n",
    "sns.set_theme(style=\"whitegrid\", palette=\"muted\")\n",
    "\n",
    "# Draw a categorical scatterplot to show each observation\n",
    "fig3 = sns.swarmplot(data=penguins, x=\"body_mass_g\", y=\"sex\", hue=\"species\")\n",
    "fig3.set(ylabel=\"\")\n",
    "\n",
    "fig3.figure"
   ]
  },
  {
   "cell_type": "markdown",
   "id": "f2ff0323-1de7-410d-924d-409002c0883a",
   "metadata": {},
   "source": [
    "## Multiple linear regression"
   ]
  },
  {
   "cell_type": "code",
   "execution_count": null,
   "id": "c504b7bb-e7b6-49ce-a939-81f234601cbe",
   "metadata": {},
   "outputs": [],
   "source": [
    "plt.clf()\n",
    "sns.set_theme()\n",
    "\n",
    "# Plot bill length and bill depth by species\n",
    "fig4 = sns.lmplot(\n",
    "    data=penguins,\n",
    "    x=\"bill_length_mm\", y=\"bill_depth_mm\", hue=\"species\",\n",
    "    height=5\n",
    ")\n",
    "\n",
    "# Use more informative axis labels than are provided by default\n",
    "fig4.set_axis_labels(\"Snoot length (mm)\", \"Snoot depth (mm)\")\n",
    "\n",
    "fig4.figure"
   ]
  },
  {
   "cell_type": "markdown",
   "id": "9dc0d1f8-e9c8-4e67-a3c5-4769cf63750e",
   "metadata": {},
   "source": [
    "## Scatterplot Matrix"
   ]
  },
  {
   "cell_type": "code",
   "execution_count": null,
   "id": "615dbcfa-a342-439e-977a-eaaad868de92",
   "metadata": {},
   "outputs": [],
   "source": [
    "plt.clf()\n",
    "sns.set_theme(style=\"ticks\")\n",
    "\n",
    "fig5 = sns.pairplot(penguins, hue=\"species\")\n",
    "\n",
    "fig5.figure"
   ]
  },
  {
   "cell_type": "code",
   "execution_count": null,
   "id": "42b96e91-e73f-4d17-8215-379f5cceeef0",
   "metadata": {},
   "outputs": [],
   "source": [
    "# Save our figure\n",
    "fig5.savefig(\"scatterplot_matrix.png\", dpi=300)"
   ]
  },
  {
   "cell_type": "markdown",
   "id": "91861695-ed2f-40ee-aaba-467a2f1cfee1",
   "metadata": {},
   "source": [
    "## Histograms showing variation within each species"
   ]
  },
  {
   "cell_type": "code",
   "execution_count": null,
   "id": "f4e2fb02-70c4-4aaa-b642-e7e72ce0159a",
   "metadata": {},
   "outputs": [],
   "source": [
    "plt.clf()\n",
    "sns.set_theme(style=\"darkgrid\")\n",
    "\n",
    "fig6 = sns.displot(\n",
    "    penguins, x=\"bill_length_mm\", col=\"species\",\n",
    "    binwidth=3, height=3, facet_kws=dict(margin_titles=True),\n",
    ")\n",
    "\n",
    "fig6.figure"
   ]
  },
  {
   "cell_type": "markdown",
   "id": "57f90f81-2d0f-4a35-a45f-c654b1a3b6f4",
   "metadata": {},
   "source": [
    "## Joint kernel density estimate\n",
    "\n",
    "(i.e. smoothed histograms)"
   ]
  },
  {
   "cell_type": "code",
   "execution_count": null,
   "id": "12d5ebd9-abbd-4edf-91c3-b9602412f519",
   "metadata": {},
   "outputs": [],
   "source": [
    "plt.clf()\n",
    "sns.set_theme(style=\"ticks\")\n",
    "\n",
    "# Show the joint distribution using kernel density estimation\n",
    "fig7 = sns.jointplot(\n",
    "    data=penguins,\n",
    "    x=\"bill_length_mm\", y=\"bill_depth_mm\", hue=\"species\",\n",
    "    kind=\"kde\",\n",
    ")\n",
    "\n",
    "fig7.figure"
   ]
  },
  {
   "cell_type": "markdown",
   "id": "d8e50d04-a1d7-425c-aed0-30be2f36dee5",
   "metadata": {},
   "source": [
    "## Paired density and scatterplot matrix"
   ]
  },
  {
   "cell_type": "code",
   "execution_count": null,
   "id": "44e907e2-7162-4378-b349-267004b502e5",
   "metadata": {},
   "outputs": [],
   "source": [
    "plt.clf()\n",
    "sns.set_theme(style=\"white\")\n",
    "\n",
    "\n",
    "fig8 = sns.PairGrid(penguins, diag_sharey=False)\n",
    "fig8.map_upper(sns.scatterplot, s=15)\n",
    "fig8.map_lower(sns.kdeplot)\n",
    "fig8.map_diag(sns.kdeplot, lw=2)\n",
    "\n",
    "fig8.figure"
   ]
  },
  {
   "cell_type": "markdown",
   "id": "11812094-277c-4442-a5ec-88f03035e546",
   "metadata": {},
   "source": [
    "# Credits\n",
    "\n",
    "1. Seaborn Examples Gallery: https://seaborn.pydata.org/examples/index.html\n",
    "2. Data Analysis and Visualization in R: https://github.com/AndreaSanchezTapia/UCMerced_R"
   ]
  }
 ],
 "metadata": {
  "kernelspec": {
   "display_name": "Python 3 (ipykernel)",
   "language": "python",
   "name": "python3"
  },
  "language_info": {
   "codemirror_mode": {
    "name": "ipython",
    "version": 3
   },
   "file_extension": ".py",
   "mimetype": "text/x-python",
   "name": "python",
   "nbconvert_exporter": "python",
   "pygments_lexer": "ipython3",
   "version": "3.9.13"
  }
 },
 "nbformat": 4,
 "nbformat_minor": 5
}
